{
 "cells": [
  {
   "cell_type": "code",
   "execution_count": 3,
   "id": "c0d56651-01a7-4dd8-8953-c401d4e79859",
   "metadata": {},
   "outputs": [],
   "source": [
    "import numpy as np\n",
    "from scipy import stats\n",
    "SAMPLE_SIZE = 100\n",
    "np.random.seed(45)"
   ]
  },
  {
   "cell_type": "code",
   "execution_count": 4,
   "id": "7ff7e824-f389-4d48-b4c9-de5ba4a8801c",
   "metadata": {},
   "outputs": [],
   "source": [
    "#Build SCM\n",
    "u_0 = np.random.randn(SAMPLE_SIZE)\n",
    "u_1 = np.random.randn(SAMPLE_SIZE)\n",
    "a = u_0\n",
    "b = 5* a +u_1"
   ]
  },
  {
   "cell_type": "code",
   "execution_count": 5,
   "id": "c2716506-2045-4abc-9dcf-1c22a2d8f012",
   "metadata": {},
   "outputs": [
    {
     "data": {
      "text/plain": [
       "array([ 0.02637477,  0.2603217 , -0.39514554, -0.20430091, -1.27163265,\n",
       "       -2.59687863,  0.28968091, -0.87330464,  0.39407266,  0.93510554,\n",
       "       -0.01568471,  0.25959597, -1.47331424,  0.8019266 , -1.75075239,\n",
       "       -0.49505193, -1.00860081,  0.02524419, -0.12150685, -1.54687318,\n",
       "       -0.60694397, -1.39381267, -0.62769549,  0.33263215, -1.54136684,\n",
       "        1.67029982, -0.49954587,  0.67312896,  2.24808957, -1.65426275,\n",
       "       -0.47439702, -0.30191524, -0.93102638,  1.11098606, -0.18968296,\n",
       "        1.27840959, -0.55407712,  0.35430274, -0.44027617, -0.42444883,\n",
       "        0.22808162,  0.57904417, -0.85418835, -0.84134033, -0.65570411,\n",
       "       -0.1468827 , -1.4119755 , -0.27055682,  1.1293033 , -1.34025807,\n",
       "       -0.24929603,  1.76349221, -0.59195943, -0.90781168,  0.27179962,\n",
       "       -0.00456167,  0.85410694, -1.59000488,  0.05604899,  0.10586257,\n",
       "       -0.09083758, -0.71387606,  0.20371539,  1.20303184,  0.08431307,\n",
       "        0.16393392,  0.37375155, -0.22690685, -0.6712744 ,  0.31410988,\n",
       "        1.48441811,  0.65216416, -0.23257337,  1.18474619,  0.92094731,\n",
       "        1.21650079, -1.88326281,  0.22129198,  1.81659525,  1.74288398,\n",
       "       -0.06047779, -0.58954785, -0.82202959, -0.05221816, -0.08523747,\n",
       "        0.43105283, -0.19667956, -0.66059141, -0.24649664, -0.2095428 ,\n",
       "       -0.50621101, -1.4386212 , -0.204011  , -0.56743439, -0.34877894,\n",
       "       -1.03018823,  0.58584626,  0.37182974, -2.40714547,  0.96398315])"
      ]
     },
     "execution_count": 5,
     "metadata": {},
     "output_type": "execute_result"
    }
   ],
   "source": [
    "a"
   ]
  },
  {
   "cell_type": "code",
   "execution_count": 7,
   "id": "3bd3496c-8918-46ef-b9a5-e538e0b2602a",
   "metadata": {},
   "outputs": [],
   "source": [
    "r, p  =stats.pearsonr(a,b)"
   ]
  },
  {
   "cell_type": "code",
   "execution_count": 10,
   "id": "6a57a1f2-2553-492b-a1fa-c36b30ef5a26",
   "metadata": {},
   "outputs": [
    {
     "name": "stdout",
     "output_type": "stream",
     "text": [
      "Mean of B before any intervention: -0.620\n",
      "Variance of B before any intervention:  22.667\n",
      "Correlation between A and B:\n",
      "r =  0.978; p =  0.000\n",
      "\n"
     ]
    }
   ],
   "source": [
    "print(f'Mean of B before any intervention: {b.mean() : .3f}')\n",
    "print(f'Variance of B before any intervention: {b.var() : .3f}')\n",
    "print(f'Correlation between A and B:\\nr = {r: .3f}; p = {p: .3f}\\n')\n"
   ]
  },
  {
   "cell_type": "code",
   "execution_count": 12,
   "id": "42b30362-c753-49f7-81c0-e6fd5bf0ab87",
   "metadata": {},
   "outputs": [],
   "source": [
    "#Intervene A\n",
    "a = np.array([1.5] * SAMPLE_SIZE)\n",
    "b = 5* a +u_1"
   ]
  },
  {
   "cell_type": "code",
   "execution_count": 13,
   "id": "18e2e09a-257e-454f-a640-14d7e97e045e",
   "metadata": {},
   "outputs": [
    {
     "name": "stdout",
     "output_type": "stream",
     "text": [
      "Mean of B after  intervention:  7.575\n",
      "Variance of B after intervention:  1.003\n"
     ]
    }
   ],
   "source": [
    "print(f'Mean of B after  intervention: {b.mean() : .3f}')\n",
    "print(f'Variance of B after intervention: {b.var() : .3f}')\n"
   ]
  },
  {
   "cell_type": "code",
   "execution_count": 14,
   "id": "59194434-525f-4b35-8dc4-abb3e3b04d34",
   "metadata": {},
   "outputs": [],
   "source": [
    "#Intervening on b\n",
    "a = u_0\n",
    "b = np.random.randn(SAMPLE_SIZE)\n",
    "r, p = stats.pearsonr(a,b)"
   ]
  },
  {
   "cell_type": "code",
   "execution_count": 15,
   "id": "7aa1ec11-d892-4ec7-9235-1814be42e2e2",
   "metadata": {},
   "outputs": [
    {
     "name": "stdout",
     "output_type": "stream",
     "text": [
      "Mean of B after intervention:  0.186\n",
      "Variance of B after intervention:  0.995\n",
      "Correlation between A and B after intervening:\n",
      "r = -0.023; p =  0.821\n",
      "\n"
     ]
    }
   ],
   "source": [
    "print(f'Mean of B after intervention: {b.mean() : .3f}')\n",
    "print(f'Variance of B after intervention: {b.var() : .3f}')\n",
    "print(f'Correlation between A and B after intervening:\\nr = {r: .3f}; p = {p: .3f}\\n')"
   ]
  },
  {
   "cell_type": "code",
   "execution_count": null,
   "id": "cb90c6e7-d9f0-47d1-9c48-2a0816f0b981",
   "metadata": {},
   "outputs": [],
   "source": []
  }
 ],
 "metadata": {
  "kernelspec": {
   "display_name": "Python 3 (ipykernel)",
   "language": "python",
   "name": "python3"
  },
  "language_info": {
   "codemirror_mode": {
    "name": "ipython",
    "version": 3
   },
   "file_extension": ".py",
   "mimetype": "text/x-python",
   "name": "python",
   "nbconvert_exporter": "python",
   "pygments_lexer": "ipython3",
   "version": "3.10.8"
  }
 },
 "nbformat": 4,
 "nbformat_minor": 5
}
