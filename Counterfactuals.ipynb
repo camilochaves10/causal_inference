{
 "cells": [
  {
   "cell_type": "code",
   "execution_count": 1,
   "id": "d592f5f7-2475-4f75-b97f-a8f8a6936296",
   "metadata": {},
   "outputs": [],
   "source": [
    "class CounterfactualSCM:\n",
    "    \n",
    "    def abduct(self, t, y):\n",
    "        return (t+y-1)/(2*t-1)\n",
    "    \n",
    "    def modify(self,t):\n",
    "        return lambda u: t*u +(t-1)*(u-1)\n",
    "    \n",
    "    def predict(self, u, t):\n",
    "        return self.modify(t)(u)"
   ]
  },
  {
   "cell_type": "code",
   "execution_count": 2,
   "id": "2005c091-d7f1-40d4-ad6f-498574a34fab",
   "metadata": {},
   "outputs": [],
   "source": [
    "coffee = CounterfactualSCM()\n",
    "t = 1\n",
    "y = 1"
   ]
  },
  {
   "cell_type": "code",
   "execution_count": 4,
   "id": "7190611a-eb61-4918-a224-a0ccafb91c64",
   "metadata": {},
   "outputs": [
    {
     "data": {
      "text/plain": [
       "1.0"
      ]
     },
     "execution_count": 4,
     "metadata": {},
     "output_type": "execute_result"
    }
   ],
   "source": [
    "u = coffee.abduct(t=t, y = y)\n",
    "u"
   ]
  },
  {
   "cell_type": "code",
   "execution_count": 6,
   "id": "c34024c3-dabd-4ebf-b6f4-f5e40b17058d",
   "metadata": {},
   "outputs": [
    {
     "data": {
      "text/plain": [
       "0.0"
      ]
     },
     "execution_count": 6,
     "metadata": {},
     "output_type": "execute_result"
    }
   ],
   "source": [
    "#compute counterfactual prediction\n",
    "coffee.predict(u=u, t= 0)"
   ]
  },
  {
   "cell_type": "code",
   "execution_count": null,
   "id": "6efebbb4-dd35-4194-83b3-ca45b68936a8",
   "metadata": {},
   "outputs": [],
   "source": []
  }
 ],
 "metadata": {
  "kernelspec": {
   "display_name": "Python 3 (ipykernel)",
   "language": "python",
   "name": "python3"
  },
  "language_info": {
   "codemirror_mode": {
    "name": "ipython",
    "version": 3
   },
   "file_extension": ".py",
   "mimetype": "text/x-python",
   "name": "python",
   "nbconvert_exporter": "python",
   "pygments_lexer": "ipython3",
   "version": "3.10.8"
  }
 },
 "nbformat": 4,
 "nbformat_minor": 5
}
