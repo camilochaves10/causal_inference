{
 "cells": [
  {
   "cell_type": "code",
   "execution_count": 1,
   "id": "debc128a-1938-418c-8891-9f5e9c2a89b1",
   "metadata": {},
   "outputs": [],
   "source": [
    "import numpy as np\n",
    "from scipy import stats"
   ]
  },
  {
   "cell_type": "code",
   "execution_count": 2,
   "id": "726b529a-ca8a-4d92-89cf-5030a3cfd6ad",
   "metadata": {},
   "outputs": [],
   "source": [
    "class BookSCM:\n",
    "    def __init__(self, random_seed = None):\n",
    "        self.random_seed = random_seed\n",
    "        self.u_0 = stats.uniform()\n",
    "        self.u_1 = stats.norm()\n",
    "    \n",
    "    def sample(self, sample_size = 100):\n",
    "        \"\"\"Samples from the Strucutral Causal Model\"\"\"\n",
    "        if self.random_seed:\n",
    "            np.random.seed(self.random_seed)\n",
    "        u_0 = self.u_0.rvs(sample_size)\n",
    "        u_1 = self.u_1.rvs(sample_size)\n",
    "        a = u_0 > .61\n",
    "        b = (a + .5 * u_1) > .2\n",
    "        \n",
    "        return a, b\n",
    "        \n",
    "        "
   ]
  },
  {
   "cell_type": "code",
   "execution_count": 3,
   "id": "640a8688-c1cd-47b9-b62d-727d9ba528ea",
   "metadata": {},
   "outputs": [],
   "source": [
    "scm = BookSCM(random_seed=45)"
   ]
  },
  {
   "cell_type": "code",
   "execution_count": 4,
   "id": "e3c96dbd-2bc3-40f6-b062-92bc84a535c5",
   "metadata": {},
   "outputs": [],
   "source": [
    "buy_book_a, buy_book_b = scm.sample(100)"
   ]
  },
  {
   "cell_type": "code",
   "execution_count": 5,
   "id": "2cf29941-a000-43a2-9ebc-6244b283ea98",
   "metadata": {},
   "outputs": [
    {
     "data": {
      "text/plain": [
       "((100,), (100,))"
      ]
     },
     "execution_count": 5,
     "metadata": {},
     "output_type": "execute_result"
    }
   ],
   "source": [
    "buy_book_a.shape, buy_book_b.shape"
   ]
  },
  {
   "cell_type": "code",
   "execution_count": 22,
   "id": "e9ba2302-f813-459c-9895-1a6a68809120",
   "metadata": {},
   "outputs": [
    {
     "name": "stdout",
     "output_type": "stream",
     "text": [
      "Probability of buying book A given B:0.6379310344827587\n"
     ]
    }
   ],
   "source": [
    "print(f'Probability of buying book A given B:{buy_book_a[buy_book_b].sum()/ buy_book_a[buy_book_b].shape[0]}')"
   ]
  },
  {
   "cell_type": "code",
   "execution_count": 17,
   "id": "3068795f-9e3e-4a63-9c61-5c9c4c5522ac",
   "metadata": {},
   "outputs": [
    {
     "data": {
      "text/plain": [
       "array([False, False,  True,  True, False, False, False, False, False,\n",
       "        True,  True,  True,  True, False,  True, False,  True,  True,\n",
       "       False, False,  True, False, False,  True, False,  True,  True,\n",
       "        True,  True,  True,  True, False,  True, False,  True, False,\n",
       "       False,  True, False, False,  True, False,  True, False, False,\n",
       "        True,  True, False,  True, False, False,  True,  True,  True,\n",
       "       False, False, False,  True,  True, False,  True,  True, False,\n",
       "        True,  True,  True, False, False, False, False,  True,  True,\n",
       "        True, False, False, False,  True,  True,  True, False,  True,\n",
       "        True,  True, False,  True,  True,  True,  True,  True,  True,\n",
       "        True,  True, False,  True, False,  True,  True,  True,  True,\n",
       "        True])"
      ]
     },
     "execution_count": 17,
     "metadata": {},
     "output_type": "execute_result"
    }
   ],
   "source": [
    "buy_book_b"
   ]
  },
  {
   "cell_type": "markdown",
   "id": "3b6907d5-5ec9-43ce-a050-813cf5541012",
   "metadata": {},
   "source": [
    "This indicates a positive relationship between both variables. It also shows we can make meaningful predictions from observational data alone."
   ]
  }
 ],
 "metadata": {
  "kernelspec": {
   "display_name": "Python 3 (ipykernel)",
   "language": "python",
   "name": "python3"
  },
  "language_info": {
   "codemirror_mode": {
    "name": "ipython",
    "version": 3
   },
   "file_extension": ".py",
   "mimetype": "text/x-python",
   "name": "python",
   "nbconvert_exporter": "python",
   "pygments_lexer": "ipython3",
   "version": "3.10.8"
  }
 },
 "nbformat": 4,
 "nbformat_minor": 5
}
